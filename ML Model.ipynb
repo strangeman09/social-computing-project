{
 "cells": [
  {
   "cell_type": "markdown",
   "id": "66422730",
   "metadata": {},
   "source": [
    "Importing libraries\n"
   ]
  },
  {
   "cell_type": "code",
   "execution_count": 1,
   "id": "d1d3e3a6",
   "metadata": {},
   "outputs": [],
   "source": [
    "import networkx as nx\n",
    "from operator import truediv\n",
    "from scipy.sparse import csr_matrix\n",
    "import math\n",
    "import random\n",
    "from collections import Counter\n",
    "from itertools import combinations\n",
    "from collections import defaultdict\n",
    "from tqdm import tqdm\n",
    "import pandas as pd\n",
    "from imblearn.over_sampling import SMOTE"
   ]
  },
  {
   "cell_type": "markdown",
   "id": "7bf38c02",
   "metadata": {},
   "source": [
    "Loading the graphs of Sem-5 and Sem-7"
   ]
  },
  {
   "cell_type": "code",
   "execution_count": 2,
   "id": "6089d03d",
   "metadata": {},
   "outputs": [],
   "source": [
    "mygraph = nx.read_gml('sem3.gml',label='id')\n",
    "mygraph1 = nx.read_gml('sem7.gml',label='id')"
   ]
  },
  {
   "cell_type": "markdown",
   "id": "36be6b96",
   "metadata": {},
   "source": [
    "Storing neccessary metrics for calculating features"
   ]
  },
  {
   "cell_type": "code",
   "execution_count": 3,
   "id": "71f3f768",
   "metadata": {},
   "outputs": [],
   "source": [
    "e_3=list(mygraph.edges())\n",
    "L_3=list(mygraph.nodes())\n",
    "edge_list_3 = list(combinations(L_3, 2))\n",
    "R1_3=[l[0] for l in edge_list_3]\n",
    "R2_3=[l[1] for l in edge_list_3]\n",
    "r1_3 = [lis[0] for lis in e_3]\n",
    "r2_3 = [lis[1] for lis in e_3]\n",
    "\n",
    "\n",
    "e_7=list(mygraph1.edges())\n",
    "L_7=list(mygraph1.nodes())\n",
    "edge_list_7 = list(combinations(L_7, 2))\n",
    "R1_7=[l[0] for l in edge_list_7]\n",
    "R2_7=[l[1] for l in edge_list_7]\n",
    "r1_7 = [lis[0] for lis in e_7]\n",
    "r2_7 = [lis[1] for lis in e_7]\n",
    "\n",
    "G2_3 = nx.DiGraph(mygraph)\n",
    "G2_7 = nx.DiGraph(mygraph1)\n",
    "lists=[]"
   ]
  },
  {
   "cell_type": "markdown",
   "id": "e82e3a67",
   "metadata": {},
   "source": [
    "Feature-1: Degree of a node"
   ]
  },
  {
   "cell_type": "code",
   "execution_count": 4,
   "id": "8cbfbce9",
   "metadata": {},
   "outputs": [],
   "source": [
    "def DegreeofN(G,l):\n",
    "    F2=[]\n",
    "    for i in range(len(G.nodes)):\n",
    "        a=G.degree[l[i]]\n",
    "        F2.append(a)\n",
    "    return F2\n",
    "F1_3=DegreeofN(mygraph,L_3)\n",
    "F1_7=DegreeofN(mygraph1,L_7)\n",
    "lists.append(F1_3)\n",
    "lists.append(F1_7)"
   ]
  },
  {
   "cell_type": "markdown",
   "id": "c33410d5",
   "metadata": {},
   "source": [
    "Feature-2: Eigen_centrality"
   ]
  },
  {
   "cell_type": "code",
   "execution_count": 5,
   "id": "7865e01a",
   "metadata": {},
   "outputs": [],
   "source": [
    "# Networkx appears not to implement their eigenvector centrality algorithm for MultiDiGraph objects, so you'd have to convert your object like:\n",
    "\n",
    "def Eigen_Centrality(G2):\n",
    "    centrality = nx.eigenvector_centrality(G2, max_iter=1000)\n",
    "    return list(centrality.values())\n",
    "F2_3=Eigen_Centrality(G2_3)\n",
    "F2_7=Eigen_Centrality(G2_7)\n",
    "lists.append(F2_3)\n",
    "lists.append(F2_7)"
   ]
  },
  {
   "cell_type": "markdown",
   "id": "11a864ab",
   "metadata": {},
   "source": [
    "Feature-3: Betweeness"
   ]
  },
  {
   "cell_type": "code",
   "execution_count": 6,
   "id": "623a8a6a",
   "metadata": {},
   "outputs": [],
   "source": [
    "def Betweeness(G):\n",
    "    betweeness = nx.betweenness_centrality(G)\n",
    "    return list(betweeness.values())\n",
    "F3_3=Betweeness(mygraph)\n",
    "F3_7 = Betweeness(mygraph1)\n",
    "lists.append(F3_3)\n",
    "lists.append(F3_7)"
   ]
  },
  {
   "cell_type": "markdown",
   "id": "3e1cd0ff",
   "metadata": {},
   "source": [
    "Feature-4: Clustering"
   ]
  },
  {
   "cell_type": "code",
   "execution_count": 7,
   "id": "0aaf189b",
   "metadata": {},
   "outputs": [],
   "source": [
    "def Clustering(G):\n",
    "    clustering_coeff =nx.clustering(G)\n",
    "    return list(clustering_coeff.values())\n",
    "F4_3=Clustering(G2_3)\n",
    "F4_7=Clustering(G2_7)\n",
    "lists.append(F4_3)\n",
    "lists.append(F4_7)"
   ]
  },
  {
   "cell_type": "markdown",
   "id": "4ded9f22",
   "metadata": {},
   "source": [
    "Feature-5: Node Conductivity Betweenness divided by Degree: which nodes can reach the most nodes in the different parts of the network faster with the least connections. Nodes with a high conductivity will tend to be better connected to the different distinct groups of nodes. They are reaching for global connections instead of the local ones."
   ]
  },
  {
   "cell_type": "code",
   "execution_count": 8,
   "id": "ae3eb232",
   "metadata": {},
   "outputs": [],
   "source": [
    "def nodeConductivity(G,l):\n",
    "    NC = []\n",
    "    count=0\n",
    "    for i in range(0, len(l)):\n",
    "        if DegreeofN(G,l)[i] == 0:\n",
    "            NC.append(0)\n",
    "        else:\n",
    "            NC.append(Betweeness(G)[i]/DegreeofN(G,l)[i])\n",
    "        count=count+1\n",
    "    return NC\n",
    "F5_3=nodeConductivity(mygraph,L_3)\n",
    "F5_7=nodeConductivity(mygraph1,L_7)\n",
    "lists.append(F5_3)\n",
    "lists.append(F5_7)"
   ]
  },
  {
   "cell_type": "markdown",
   "id": "e006f985",
   "metadata": {},
   "source": [
    "Feature-6 Node Locality\n",
    "Degree squared divided by Betweenness: Local influencers with the least global connections. Nodes with high locality measure will tend to have more connections within their local group of nodes."
   ]
  },
  {
   "cell_type": "code",
   "execution_count": 9,
   "id": "6649dc4e",
   "metadata": {},
   "outputs": [],
   "source": [
    "def nodeLocality(G,l):\n",
    "    NL=[]\n",
    "    for i in range(len(l)):\n",
    "        count=0\n",
    "        if DegreeofN(G,l)[i] == 0:\n",
    "            NL.append(0)\n",
    "        else:\n",
    "            temp=math.sqrt(DegreeofN(G,l)[i])\n",
    "            NL.append(Betweeness(G)[i]/temp)\n",
    "        count=count+1\n",
    "    return NL\n",
    "F6_3=nodeLocality(mygraph,L_3)\n",
    "F6_7=nodeLocality(mygraph1,L_7)\n",
    "lists.append(F6_3)\n",
    "lists.append(F6_7)"
   ]
  },
  {
   "cell_type": "markdown",
   "id": "07b5cbde",
   "metadata": {},
   "source": [
    "Feature-7: No of friends from the same section I am calling the function\n",
    "Sec_same"
   ]
  },
  {
   "cell_type": "code",
   "execution_count": 10,
   "id": "e4e4a971",
   "metadata": {},
   "outputs": [
    {
     "name": "stderr",
     "output_type": "stream",
     "text": [
      "100%|██████████████████████████████████████████████████████████████████████████████| 121/121 [00:00<00:00, 1191.64it/s]\n",
      "100%|███████████████████████████████████████████████████████████████████████████████| 128/128 [00:00<00:00, 765.07it/s]\n"
     ]
    }
   ],
   "source": [
    "def Sec_same(G,l):\n",
    "    F=[]\n",
    "    for i in tqdm(range(len(l))):\n",
    "        G1 = nx.ego_graph(G, l[i], radius=2, center=True, undirected=False, distance=None)\n",
    "        count = 0  # initialize count outside the inner loop\n",
    "        for node in list(G1.nodes()):\n",
    "            if G.nodes[l[i]]['Section'] == G1.nodes[node]['Section']:\n",
    "                count += 1\n",
    "        F.append(count)\n",
    "    return F\n",
    "F7_3=Sec_same(mygraph,L_3)\n",
    "F7_7=Sec_same(mygraph1,L_7)\n",
    "lists.append(F7_3)\n",
    "lists.append(F7_7)"
   ]
  },
  {
   "cell_type": "markdown",
   "id": "6a17855c",
   "metadata": {},
   "source": [
    "Feature-8: No of friends of same gender in a ego graph of radius 2 I am calling this function Gen_same"
   ]
  },
  {
   "cell_type": "code",
   "execution_count": null,
   "id": "64c62ab6",
   "metadata": {},
   "outputs": [],
   "source": [
    "# def Gen_same(G,l):\n",
    "#     F=[]\n",
    "#     for i in tqdm(range(len(l))):\n",
    "#         G1 = nx.ego_graph(G, l[i], radius=2, center=True, undirected=False, distance=None)\n",
    "#         count = 0  # initialize count outside the inner loop\n",
    "#         for node in list(G1.nodes()):\n",
    "#             if G.nodes[l[i]]['Gender'] == G1.nodes[node]['Gender']:\n",
    "#                 count += 1\n",
    "#         F.append(count)\n",
    "#     return F\n",
    "# F8_3=Gen_same(mygraph,L_3)\n",
    "# F8_7=Gen_same(mygraph1,L_7)"
   ]
  },
  {
   "cell_type": "markdown",
   "id": "6ff6bb46",
   "metadata": {},
   "source": [
    "Feature-9: No of friends of opposite gender in a ego graph of radius 2 I am calling this function Gen_opp"
   ]
  },
  {
   "cell_type": "code",
   "execution_count": 9,
   "id": "c325195f",
   "metadata": {},
   "outputs": [],
   "source": [
    "# def Gen_opp(G,l):\n",
    "#     F=[]\n",
    "#     for i in tqdm(range(len(l))):\n",
    "#         G1 = nx.ego_graph(G, l[i], radius=2, center=True, undirected=False, distance=None)\n",
    "#         count = 0  # initialize count outside the inner loop\n",
    "#         for node in list(G1.nodes()):\n",
    "#             if G.nodes[l[i]]['Gender'] != G1.nodes[node]['Gender']:\n",
    "#                 count += 1\n",
    "#         F.append(count)\n",
    "#     return F\n",
    "# F9_3=Gen_opp(mygraph,L_3)\n",
    "# F9_7=Gen_opp(mygraph1,L_7)\n"
   ]
  },
  {
   "cell_type": "markdown",
   "id": "916cdd50",
   "metadata": {},
   "source": [
    "Labels: The labels in this problem are 1,0 -\n",
    "1--> There was a change in the percentage of a person over different sems\n",
    "0 --> If there wasn't any change in the percentage "
   ]
  },
  {
   "cell_type": "code",
   "execution_count": 11,
   "id": "9d147186",
   "metadata": {},
   "outputs": [],
   "source": [
    "def avg(lst):\n",
    "    S = sum(lst)\n",
    "    l=len(lst)\n",
    "    average =S/l\n",
    "    return average\n",
    "percent1=[]\n",
    "percent2=[]\n",
    "for i in range(len(L_3)):\n",
    "    node_attributes_3 = list(mygraph.nodes[i].values())[8:]\n",
    "    del node_attributes_3[50]\n",
    "    percent1.append(avg(node_attributes_3))\n",
    "for i in range(len(L_7)):\n",
    "    node_attributes_7 = list(mygraph1.nodes[i].values())[5:]\n",
    "    del node_attributes_7[50]\n",
    "    percent2.append(avg(node_attributes_7))\n",
    "def labels():\n",
    "    l=[]\n",
    "    for i in range(len(percent1)):\n",
    "        if(percent1[i]<percent2[i]):\n",
    "            l.append(1)\n",
    "        else:\n",
    "            l.append(0)\n",
    "    for i in range(len(percent2)-len(percent1)):\n",
    "        l.append(0)\n",
    "    return l\n",
    "label=labels()\n",
    "lists.append(label)"
   ]
  },
  {
   "cell_type": "markdown",
   "id": "fd19788d",
   "metadata": {},
   "source": [
    "Dataframe Creation"
   ]
  },
  {
   "cell_type": "code",
   "execution_count": 12,
   "id": "275abed5",
   "metadata": {},
   "outputs": [],
   "source": [
    "df = pd.DataFrame([pd.Series(list) for list in lists])\n",
    "df_t=df.T\n",
    "df_t.to_csv('Features.csv',index=False)\n",
    "# Check for NAN values in each column\n",
    "df_t.isna()\n",
    "\n",
    "# Replace NAN values with the mean value of each column\n",
    "df_t = df_t.fillna(df.mean())\n",
    "df_t.to_csv('Features_NAN.csv',index=False)\n"
   ]
  },
  {
   "cell_type": "markdown",
   "id": "5f5f31a3",
   "metadata": {},
   "source": [
    "Data Imbalance Dealing (Using SMOTE-Synthetic Minority Oversampling Technique)\n"
   ]
  },
  {
   "cell_type": "code",
   "execution_count": 15,
   "id": "fa2ba0ed",
   "metadata": {},
   "outputs": [],
   "source": [
    "# Separate the features and labels\n",
    "features = df_t.drop(df_t.columns[-1], axis=1)\n",
    "labels = df_t.iloc[:, -1]\n",
    "\n",
    "# Create a SMOTE object\n",
    "smote = SMOTE()\n",
    "\n",
    "# Oversample the minority class\n",
    "X_smote, y_smote = smote.fit_resample(features, labels)\n",
    "\n",
    "# Combine the features and labels\n",
    "df_smote = pd.concat([X_smote, y_smote], axis=1)\n",
    "\n",
    "# Print the dataframe\n",
    "df_smote.to_csv('Features_Smote.csv',index=False)\n"
   ]
  },
  {
   "cell_type": "markdown",
   "id": "047c1eea",
   "metadata": {},
   "source": [
    "Training using Lazy predict "
   ]
  },
  {
   "cell_type": "code",
   "execution_count": 16,
   "id": "0b448a0e",
   "metadata": {
    "scrolled": true
   },
   "outputs": [
    {
     "name": "stdout",
     "output_type": "stream",
     "text": [
      "Requirement already satisfied: lazypredict in c:\\users\\manish\\appdata\\local\\programs\\python\\python39\\lib\\site-packages (0.2.12)\n",
      "Requirement already satisfied: lightgbm in c:\\users\\manish\\appdata\\local\\programs\\python\\python39\\lib\\site-packages (from lazypredict) (3.3.5)\n",
      "Requirement already satisfied: tqdm in c:\\users\\manish\\appdata\\local\\programs\\python\\python39\\lib\\site-packages (from lazypredict) (4.64.0)\n",
      "Requirement already satisfied: joblib in c:\\users\\manish\\appdata\\local\\programs\\python\\python39\\lib\\site-packages (from lazypredict) (1.2.0)\n",
      "Requirement already satisfied: click in c:\\users\\manish\\appdata\\local\\programs\\python\\python39\\lib\\site-packages (from lazypredict) (8.1.3)\n",
      "Requirement already satisfied: pandas in c:\\users\\manish\\appdata\\local\\programs\\python\\python39\\lib\\site-packages (from lazypredict) (1.4.3)\n",
      "Requirement already satisfied: xgboost in c:\\users\\manish\\appdata\\local\\programs\\python\\python39\\lib\\site-packages (from lazypredict) (1.7.4)\n",
      "Requirement already satisfied: scikit-learn in c:\\users\\manish\\appdata\\local\\programs\\python\\python39\\lib\\site-packages (from lazypredict) (1.1.2)\n",
      "Requirement already satisfied: colorama in c:\\users\\manish\\appdata\\local\\programs\\python\\python39\\lib\\site-packages (from click->lazypredict) (0.4.4)\n",
      "Requirement already satisfied: wheel in c:\\users\\manish\\appdata\\local\\programs\\python\\python39\\lib\\site-packages (from lightgbm->lazypredict) (0.37.1)\n",
      "Requirement already satisfied: scipy in c:\\users\\manish\\appdata\\local\\programs\\python\\python39\\lib\\site-packages (from lightgbm->lazypredict) (1.9.0)\n",
      "Requirement already satisfied: numpy in c:\\users\\manish\\appdata\\local\\programs\\python\\python39\\lib\\site-packages (from lightgbm->lazypredict) (1.24.2)\n",
      "Requirement already satisfied: threadpoolctl>=2.0.0 in c:\\users\\manish\\appdata\\local\\programs\\python\\python39\\lib\\site-packages (from scikit-learn->lazypredict) (3.1.0)\n",
      "Requirement already satisfied: python-dateutil>=2.8.1 in c:\\users\\manish\\appdata\\local\\programs\\python\\python39\\lib\\site-packages (from pandas->lazypredict) (2.8.1)\n",
      "Requirement already satisfied: pytz>=2020.1 in c:\\users\\manish\\appdata\\local\\programs\\python\\python39\\lib\\site-packages (from pandas->lazypredict) (2022.2.1)\n",
      "Requirement already satisfied: six>=1.5 in c:\\users\\manish\\appdata\\local\\programs\\python\\python39\\lib\\site-packages (from python-dateutil>=2.8.1->pandas->lazypredict) (1.16.0)\n"
     ]
    },
    {
     "name": "stderr",
     "output_type": "stream",
     "text": [
      "\n",
      "[notice] A new release of pip is available: 23.0.1 -> 23.1.2\n",
      "[notice] To update, run: python.exe -m pip install --upgrade pip\n"
     ]
    }
   ],
   "source": [
    "!pip install lazypredict"
   ]
  },
  {
   "cell_type": "code",
   "execution_count": 20,
   "id": "6937df00",
   "metadata": {},
   "outputs": [
    {
     "data": {
      "text/plain": [
       "1.0    113\n",
       "0.0    113\n",
       "Name: 14, dtype: int64"
      ]
     },
     "execution_count": 20,
     "metadata": {},
     "output_type": "execute_result"
    }
   ],
   "source": [
    "df_smote.iloc[:, -1].value_counts()\n"
   ]
  },
  {
   "cell_type": "markdown",
   "id": "40c56b81",
   "metadata": {},
   "source": [
    "We can see that number of labels are equalised using SMOTE which prevents Overfitting"
   ]
  },
  {
   "cell_type": "code",
   "execution_count": 34,
   "id": "839c47a0",
   "metadata": {},
   "outputs": [
    {
     "name": "stderr",
     "output_type": "stream",
     "text": [
      "100%|██████████████████████████████████████████████████████████████████████████████████| 29/29 [00:02<00:00, 14.38it/s]\n"
     ]
    }
   ],
   "source": [
    "from sklearn.model_selection import train_test_split\n",
    "from lazypredict.Supervised import LazyClassifier\n",
    "from sklearn.metrics import make_scorer\n",
    "from sklearn.metrics import precision_score, recall_score\n",
    "X = df_smote.drop(df_smote.columns[-1], axis=1)\n",
    "y= df_smote.iloc[:,-1]\n",
    "X_train, X_test, y_train, y_test = train_test_split(X, y,test_size=.5,random_state =123)\n",
    "clf = LazyClassifier(verbose=0,ignore_warnings=True,custom_metric=precision_score)\n",
    "models,predictions = clf.fit(X_train, X_test, y_train, y_test)\n"
   ]
  },
  {
   "cell_type": "code",
   "execution_count": 35,
   "id": "4d90ae7d",
   "metadata": {
    "scrolled": false
   },
   "outputs": [
    {
     "data": {
      "text/html": [
       "<div>\n",
       "<style scoped>\n",
       "    .dataframe tbody tr th:only-of-type {\n",
       "        vertical-align: middle;\n",
       "    }\n",
       "\n",
       "    .dataframe tbody tr th {\n",
       "        vertical-align: top;\n",
       "    }\n",
       "\n",
       "    .dataframe thead th {\n",
       "        text-align: right;\n",
       "    }\n",
       "</style>\n",
       "<table border=\"1\" class=\"dataframe\">\n",
       "  <thead>\n",
       "    <tr style=\"text-align: right;\">\n",
       "      <th></th>\n",
       "      <th>Accuracy</th>\n",
       "      <th>Balanced Accuracy</th>\n",
       "      <th>ROC AUC</th>\n",
       "      <th>F1 Score</th>\n",
       "      <th>Precision</th>\n",
       "      <th>Recall</th>\n",
       "      <th>precision_score</th>\n",
       "      <th>Time Taken</th>\n",
       "    </tr>\n",
       "    <tr>\n",
       "      <th>Model</th>\n",
       "      <th></th>\n",
       "      <th></th>\n",
       "      <th></th>\n",
       "      <th></th>\n",
       "      <th></th>\n",
       "      <th></th>\n",
       "      <th></th>\n",
       "      <th></th>\n",
       "    </tr>\n",
       "  </thead>\n",
       "  <tbody>\n",
       "    <tr>\n",
       "      <th>QuadraticDiscriminantAnalysis</th>\n",
       "      <td>1.00</td>\n",
       "      <td>1.00</td>\n",
       "      <td>1.00</td>\n",
       "      <td>1.00</td>\n",
       "      <td>1.00</td>\n",
       "      <td>1.00</td>\n",
       "      <td>1.00</td>\n",
       "      <td>0.03</td>\n",
       "    </tr>\n",
       "    <tr>\n",
       "      <th>LabelSpreading</th>\n",
       "      <td>0.91</td>\n",
       "      <td>0.91</td>\n",
       "      <td>0.91</td>\n",
       "      <td>0.91</td>\n",
       "      <td>0.90</td>\n",
       "      <td>0.90</td>\n",
       "      <td>0.90</td>\n",
       "      <td>0.05</td>\n",
       "    </tr>\n",
       "    <tr>\n",
       "      <th>ExtraTreesClassifier</th>\n",
       "      <td>0.90</td>\n",
       "      <td>0.91</td>\n",
       "      <td>0.91</td>\n",
       "      <td>0.90</td>\n",
       "      <td>0.86</td>\n",
       "      <td>0.94</td>\n",
       "      <td>0.86</td>\n",
       "      <td>0.24</td>\n",
       "    </tr>\n",
       "    <tr>\n",
       "      <th>LabelPropagation</th>\n",
       "      <td>0.90</td>\n",
       "      <td>0.90</td>\n",
       "      <td>0.90</td>\n",
       "      <td>0.90</td>\n",
       "      <td>0.89</td>\n",
       "      <td>0.90</td>\n",
       "      <td>0.89</td>\n",
       "      <td>0.05</td>\n",
       "    </tr>\n",
       "    <tr>\n",
       "      <th>KNeighborsClassifier</th>\n",
       "      <td>0.89</td>\n",
       "      <td>0.90</td>\n",
       "      <td>0.90</td>\n",
       "      <td>0.89</td>\n",
       "      <td>0.86</td>\n",
       "      <td>0.92</td>\n",
       "      <td>0.86</td>\n",
       "      <td>0.06</td>\n",
       "    </tr>\n",
       "    <tr>\n",
       "      <th>AdaBoostClassifier</th>\n",
       "      <td>0.88</td>\n",
       "      <td>0.89</td>\n",
       "      <td>0.89</td>\n",
       "      <td>0.89</td>\n",
       "      <td>0.84</td>\n",
       "      <td>0.92</td>\n",
       "      <td>0.84</td>\n",
       "      <td>0.20</td>\n",
       "    </tr>\n",
       "    <tr>\n",
       "      <th>XGBClassifier</th>\n",
       "      <td>0.88</td>\n",
       "      <td>0.89</td>\n",
       "      <td>0.89</td>\n",
       "      <td>0.89</td>\n",
       "      <td>0.84</td>\n",
       "      <td>0.92</td>\n",
       "      <td>0.84</td>\n",
       "      <td>0.18</td>\n",
       "    </tr>\n",
       "    <tr>\n",
       "      <th>BaggingClassifier</th>\n",
       "      <td>0.88</td>\n",
       "      <td>0.89</td>\n",
       "      <td>0.89</td>\n",
       "      <td>0.89</td>\n",
       "      <td>0.84</td>\n",
       "      <td>0.92</td>\n",
       "      <td>0.84</td>\n",
       "      <td>0.06</td>\n",
       "    </tr>\n",
       "    <tr>\n",
       "      <th>LogisticRegression</th>\n",
       "      <td>0.88</td>\n",
       "      <td>0.88</td>\n",
       "      <td>0.88</td>\n",
       "      <td>0.88</td>\n",
       "      <td>0.81</td>\n",
       "      <td>0.96</td>\n",
       "      <td>0.81</td>\n",
       "      <td>0.03</td>\n",
       "    </tr>\n",
       "    <tr>\n",
       "      <th>RandomForestClassifier</th>\n",
       "      <td>0.88</td>\n",
       "      <td>0.88</td>\n",
       "      <td>0.88</td>\n",
       "      <td>0.88</td>\n",
       "      <td>0.83</td>\n",
       "      <td>0.92</td>\n",
       "      <td>0.83</td>\n",
       "      <td>0.31</td>\n",
       "    </tr>\n",
       "    <tr>\n",
       "      <th>LinearDiscriminantAnalysis</th>\n",
       "      <td>0.87</td>\n",
       "      <td>0.87</td>\n",
       "      <td>0.87</td>\n",
       "      <td>0.87</td>\n",
       "      <td>0.79</td>\n",
       "      <td>0.96</td>\n",
       "      <td>0.79</td>\n",
       "      <td>0.05</td>\n",
       "    </tr>\n",
       "    <tr>\n",
       "      <th>SVC</th>\n",
       "      <td>0.87</td>\n",
       "      <td>0.87</td>\n",
       "      <td>0.87</td>\n",
       "      <td>0.87</td>\n",
       "      <td>0.79</td>\n",
       "      <td>0.96</td>\n",
       "      <td>0.79</td>\n",
       "      <td>0.05</td>\n",
       "    </tr>\n",
       "    <tr>\n",
       "      <th>LinearSVC</th>\n",
       "      <td>0.87</td>\n",
       "      <td>0.87</td>\n",
       "      <td>0.87</td>\n",
       "      <td>0.87</td>\n",
       "      <td>0.80</td>\n",
       "      <td>0.94</td>\n",
       "      <td>0.80</td>\n",
       "      <td>0.03</td>\n",
       "    </tr>\n",
       "    <tr>\n",
       "      <th>PassiveAggressiveClassifier</th>\n",
       "      <td>0.87</td>\n",
       "      <td>0.87</td>\n",
       "      <td>0.87</td>\n",
       "      <td>0.87</td>\n",
       "      <td>0.82</td>\n",
       "      <td>0.90</td>\n",
       "      <td>0.82</td>\n",
       "      <td>0.02</td>\n",
       "    </tr>\n",
       "    <tr>\n",
       "      <th>LGBMClassifier</th>\n",
       "      <td>0.87</td>\n",
       "      <td>0.87</td>\n",
       "      <td>0.87</td>\n",
       "      <td>0.87</td>\n",
       "      <td>0.82</td>\n",
       "      <td>0.90</td>\n",
       "      <td>0.82</td>\n",
       "      <td>0.14</td>\n",
       "    </tr>\n",
       "    <tr>\n",
       "      <th>RidgeClassifier</th>\n",
       "      <td>0.86</td>\n",
       "      <td>0.87</td>\n",
       "      <td>0.87</td>\n",
       "      <td>0.86</td>\n",
       "      <td>0.78</td>\n",
       "      <td>0.96</td>\n",
       "      <td>0.78</td>\n",
       "      <td>0.02</td>\n",
       "    </tr>\n",
       "    <tr>\n",
       "      <th>SGDClassifier</th>\n",
       "      <td>0.85</td>\n",
       "      <td>0.86</td>\n",
       "      <td>0.86</td>\n",
       "      <td>0.85</td>\n",
       "      <td>0.77</td>\n",
       "      <td>0.96</td>\n",
       "      <td>0.77</td>\n",
       "      <td>0.04</td>\n",
       "    </tr>\n",
       "    <tr>\n",
       "      <th>NuSVC</th>\n",
       "      <td>0.84</td>\n",
       "      <td>0.85</td>\n",
       "      <td>0.85</td>\n",
       "      <td>0.84</td>\n",
       "      <td>0.76</td>\n",
       "      <td>0.96</td>\n",
       "      <td>0.76</td>\n",
       "      <td>0.02</td>\n",
       "    </tr>\n",
       "    <tr>\n",
       "      <th>RidgeClassifierCV</th>\n",
       "      <td>0.84</td>\n",
       "      <td>0.85</td>\n",
       "      <td>0.85</td>\n",
       "      <td>0.84</td>\n",
       "      <td>0.76</td>\n",
       "      <td>0.96</td>\n",
       "      <td>0.76</td>\n",
       "      <td>0.03</td>\n",
       "    </tr>\n",
       "    <tr>\n",
       "      <th>CalibratedClassifierCV</th>\n",
       "      <td>0.84</td>\n",
       "      <td>0.85</td>\n",
       "      <td>0.85</td>\n",
       "      <td>0.84</td>\n",
       "      <td>0.76</td>\n",
       "      <td>0.96</td>\n",
       "      <td>0.76</td>\n",
       "      <td>0.07</td>\n",
       "    </tr>\n",
       "    <tr>\n",
       "      <th>Perceptron</th>\n",
       "      <td>0.83</td>\n",
       "      <td>0.84</td>\n",
       "      <td>0.84</td>\n",
       "      <td>0.83</td>\n",
       "      <td>0.73</td>\n",
       "      <td>1.00</td>\n",
       "      <td>0.73</td>\n",
       "      <td>0.02</td>\n",
       "    </tr>\n",
       "    <tr>\n",
       "      <th>NearestCentroid</th>\n",
       "      <td>0.83</td>\n",
       "      <td>0.84</td>\n",
       "      <td>0.84</td>\n",
       "      <td>0.83</td>\n",
       "      <td>0.75</td>\n",
       "      <td>0.96</td>\n",
       "      <td>0.75</td>\n",
       "      <td>0.03</td>\n",
       "    </tr>\n",
       "    <tr>\n",
       "      <th>DecisionTreeClassifier</th>\n",
       "      <td>0.83</td>\n",
       "      <td>0.84</td>\n",
       "      <td>0.84</td>\n",
       "      <td>0.83</td>\n",
       "      <td>0.77</td>\n",
       "      <td>0.90</td>\n",
       "      <td>0.77</td>\n",
       "      <td>0.02</td>\n",
       "    </tr>\n",
       "    <tr>\n",
       "      <th>ExtraTreeClassifier</th>\n",
       "      <td>0.83</td>\n",
       "      <td>0.83</td>\n",
       "      <td>0.83</td>\n",
       "      <td>0.83</td>\n",
       "      <td>0.81</td>\n",
       "      <td>0.83</td>\n",
       "      <td>0.81</td>\n",
       "      <td>0.02</td>\n",
       "    </tr>\n",
       "    <tr>\n",
       "      <th>BernoulliNB</th>\n",
       "      <td>0.81</td>\n",
       "      <td>0.82</td>\n",
       "      <td>0.82</td>\n",
       "      <td>0.81</td>\n",
       "      <td>0.75</td>\n",
       "      <td>0.90</td>\n",
       "      <td>0.75</td>\n",
       "      <td>0.03</td>\n",
       "    </tr>\n",
       "    <tr>\n",
       "      <th>GaussianNB</th>\n",
       "      <td>0.79</td>\n",
       "      <td>0.80</td>\n",
       "      <td>0.80</td>\n",
       "      <td>0.78</td>\n",
       "      <td>0.68</td>\n",
       "      <td>1.00</td>\n",
       "      <td>0.68</td>\n",
       "      <td>0.04</td>\n",
       "    </tr>\n",
       "    <tr>\n",
       "      <th>DummyClassifier</th>\n",
       "      <td>0.46</td>\n",
       "      <td>0.50</td>\n",
       "      <td>0.50</td>\n",
       "      <td>0.29</td>\n",
       "      <td>0.46</td>\n",
       "      <td>1.00</td>\n",
       "      <td>0.46</td>\n",
       "      <td>0.03</td>\n",
       "    </tr>\n",
       "  </tbody>\n",
       "</table>\n",
       "</div>"
      ],
      "text/plain": [
       "                               Accuracy  Balanced Accuracy  ROC AUC  F1 Score  \\\n",
       "Model                                                                           \n",
       "QuadraticDiscriminantAnalysis      1.00               1.00     1.00      1.00   \n",
       "LabelSpreading                     0.91               0.91     0.91      0.91   \n",
       "ExtraTreesClassifier               0.90               0.91     0.91      0.90   \n",
       "LabelPropagation                   0.90               0.90     0.90      0.90   \n",
       "KNeighborsClassifier               0.89               0.90     0.90      0.89   \n",
       "AdaBoostClassifier                 0.88               0.89     0.89      0.89   \n",
       "XGBClassifier                      0.88               0.89     0.89      0.89   \n",
       "BaggingClassifier                  0.88               0.89     0.89      0.89   \n",
       "LogisticRegression                 0.88               0.88     0.88      0.88   \n",
       "RandomForestClassifier             0.88               0.88     0.88      0.88   \n",
       "LinearDiscriminantAnalysis         0.87               0.87     0.87      0.87   \n",
       "SVC                                0.87               0.87     0.87      0.87   \n",
       "LinearSVC                          0.87               0.87     0.87      0.87   \n",
       "PassiveAggressiveClassifier        0.87               0.87     0.87      0.87   \n",
       "LGBMClassifier                     0.87               0.87     0.87      0.87   \n",
       "RidgeClassifier                    0.86               0.87     0.87      0.86   \n",
       "SGDClassifier                      0.85               0.86     0.86      0.85   \n",
       "NuSVC                              0.84               0.85     0.85      0.84   \n",
       "RidgeClassifierCV                  0.84               0.85     0.85      0.84   \n",
       "CalibratedClassifierCV             0.84               0.85     0.85      0.84   \n",
       "Perceptron                         0.83               0.84     0.84      0.83   \n",
       "NearestCentroid                    0.83               0.84     0.84      0.83   \n",
       "DecisionTreeClassifier             0.83               0.84     0.84      0.83   \n",
       "ExtraTreeClassifier                0.83               0.83     0.83      0.83   \n",
       "BernoulliNB                        0.81               0.82     0.82      0.81   \n",
       "GaussianNB                         0.79               0.80     0.80      0.78   \n",
       "DummyClassifier                    0.46               0.50     0.50      0.29   \n",
       "\n",
       "                               Precision  Recall  precision_score  Time Taken  \n",
       "Model                                                                          \n",
       "QuadraticDiscriminantAnalysis       1.00    1.00             1.00        0.03  \n",
       "LabelSpreading                      0.90    0.90             0.90        0.05  \n",
       "ExtraTreesClassifier                0.86    0.94             0.86        0.24  \n",
       "LabelPropagation                    0.89    0.90             0.89        0.05  \n",
       "KNeighborsClassifier                0.86    0.92             0.86        0.06  \n",
       "AdaBoostClassifier                  0.84    0.92             0.84        0.20  \n",
       "XGBClassifier                       0.84    0.92             0.84        0.18  \n",
       "BaggingClassifier                   0.84    0.92             0.84        0.06  \n",
       "LogisticRegression                  0.81    0.96             0.81        0.03  \n",
       "RandomForestClassifier              0.83    0.92             0.83        0.31  \n",
       "LinearDiscriminantAnalysis          0.79    0.96             0.79        0.05  \n",
       "SVC                                 0.79    0.96             0.79        0.05  \n",
       "LinearSVC                           0.80    0.94             0.80        0.03  \n",
       "PassiveAggressiveClassifier         0.82    0.90             0.82        0.02  \n",
       "LGBMClassifier                      0.82    0.90             0.82        0.14  \n",
       "RidgeClassifier                     0.78    0.96             0.78        0.02  \n",
       "SGDClassifier                       0.77    0.96             0.77        0.04  \n",
       "NuSVC                               0.76    0.96             0.76        0.02  \n",
       "RidgeClassifierCV                   0.76    0.96             0.76        0.03  \n",
       "CalibratedClassifierCV              0.76    0.96             0.76        0.07  \n",
       "Perceptron                          0.73    1.00             0.73        0.02  \n",
       "NearestCentroid                     0.75    0.96             0.75        0.03  \n",
       "DecisionTreeClassifier              0.77    0.90             0.77        0.02  \n",
       "ExtraTreeClassifier                 0.81    0.83             0.81        0.02  \n",
       "BernoulliNB                         0.75    0.90             0.75        0.03  \n",
       "GaussianNB                          0.68    1.00             0.68        0.04  \n",
       "DummyClassifier                     0.46    1.00             0.46        0.03  "
      ]
     },
     "execution_count": 35,
     "metadata": {},
     "output_type": "execute_result"
    }
   ],
   "source": [
    "models"
   ]
  },
  {
   "cell_type": "markdown",
   "id": "4ef28cc1",
   "metadata": {},
   "source": [
    "Logistic Regression,Kneighbours classifier and Randomforest "
   ]
  },
  {
   "cell_type": "markdown",
   "id": "6e94226d",
   "metadata": {},
   "source": []
  },
  {
   "cell_type": "code",
   "execution_count": 62,
   "id": "edd6aa73",
   "metadata": {},
   "outputs": [
    {
     "name": "stdout",
     "output_type": "stream",
     "text": [
      "[[-8.18298926e-03  4.22239096e-01 -2.66927882e-01  8.27588118e-02\n",
      "  -5.92296251e-01  2.96275294e-03 -9.05208755e-01  8.46713257e-01\n",
      "  -5.07928381e-01  6.65597804e-05 -6.55503366e-01  3.60717541e-04\n",
      "   4.80568824e-02 -8.83072478e-02]]\n"
     ]
    },
    {
     "data": {
      "image/png": "[encoded data removed]",
      "text/plain": [
       "<Figure size 432x288 with 1 Axes>"
      ]
     },
     "metadata": {
      "needs_background": "light"
     },
     "output_type": "display_data"
    }
   ],
   "source": [
    "import pandas as pd\n",
    "from sklearn.linear_model import LogisticRegression\n",
    "\n",
    "# Load the dataframe\n",
    "df = pd.read_csv('Features_Smote.csv')\n",
    "\n",
    "# Split the dataframe into features and target\n",
    "X = df_smote.drop(df_smote.columns[-1], axis=1)\n",
    "y= df_smote.iloc[:,-1]\n",
    "# Create a logistic regression model\n",
    "model = LogisticRegression()\n",
    "\n",
    "# Fit the model to the training data\n",
    "model.fit(X_train, y_train)\n",
    "\n",
    "# Get the feature importances\n",
    "feature_importances = model.coef_\n",
    "\n",
    "# Print the feature importances\n",
    "print(feature_importances)\n",
    "num_columns =df_smote.shape[1]\n",
    "Coeff=[]\n",
    "num=[]\n",
    "for i in range(num_columns-1):\n",
    "    Coeff.append(feature_importances[0][i])\n",
    "    num.append(i)\n",
    "import matplotlib.pyplot as plt\n",
    "# Plot the feature importances\n",
    "plt.bar(num,Coeff)\n",
    "plt.xlabel('Feature')\n",
    "plt.ylabel('Importance')\n",
    "plt.show()    "
   ]
  },
  {
   "cell_type": "markdown",
   "id": "419562fa",
   "metadata": {},
   "source": [
    "Kneighbors Classifier"
   ]
  },
  {
   "cell_type": "code",
   "execution_count": 66,
   "id": "995d4cd8",
   "metadata": {},
   "outputs": [
    {
     "name": "stdout",
     "output_type": "stream",
     "text": [
      "Feature: 0, Score: 0.04071\n",
      "Feature: 1, Score: 0.14602\n",
      "Feature: 2, Score: -0.00265\n",
      "Feature: 3, Score: 0.00000\n",
      "Feature: 4, Score: -0.00442\n",
      "Feature: 5, Score: 0.00000\n",
      "Feature: 6, Score: -0.00088\n",
      "Feature: 7, Score: 0.00000\n",
      "Feature: 8, Score: -0.00442\n",
      "Feature: 9, Score: 0.00000\n",
      "Feature: 10, Score: -0.00265\n",
      "Feature: 11, Score: 0.00000\n",
      "Feature: 12, Score: 0.05575\n",
      "Feature: 13, Score: 0.06814\n"
     ]
    },
    {
     "data": {
      "image/png": "[encoded data removed]",
      "text/plain": [
       "<Figure size 432x288 with 1 Axes>"
      ]
     },
     "metadata": {
      "needs_background": "light"
     },
     "output_type": "display_data"
    }
   ],
   "source": [
    "import pandas as pd\n",
    "from sklearn.neighbors import KNeighborsClassifier\n",
    "from sklearn.inspection import permutation_importance\n",
    "\n",
    "# Load the DataFrame\n",
    "df = pd.read_csv('Features_Smote.csv')\n",
    "\n",
    "# Split the DataFrame into features and target\n",
    "X = df_smote.drop(df_smote.columns[-1], axis=1)\n",
    "y= df_smote.iloc[:,-1]\n",
    "# Create a KNeighborsClassifier model\n",
    "model = KNeighborsClassifier()\n",
    "\n",
    "# Fit the model to the training data\n",
    "model.fit(X_train, y_train)\n",
    "\n",
    "# Get the feature importances\n",
    "results = permutation_importance(model, X, y, scoring='accuracy')\n",
    "importance = results.importances_mean\n",
    "\n",
    "# Print the feature importances\n",
    "for i,v in enumerate(importance):\n",
    "    print('Feature: %0d, Score: %.5f' % (i,v))\n",
    "\n",
    "# Plot the feature importances\n",
    "plt.bar([x for x in range(len(importance))], importance)\n",
    "plt.xlabel('Feature')\n",
    "plt.ylabel('Importance')\n",
    "plt.show()\n"
   ]
  },
  {
   "cell_type": "markdown",
   "id": "223834e2",
   "metadata": {},
   "source": [
    "RandomForest"
   ]
  },
  {
   "cell_type": "code",
   "execution_count": 67,
   "id": "88a214e8",
   "metadata": {},
   "outputs": [
    {
     "name": "stdout",
     "output_type": "stream",
     "text": [
      "Feature: 0, Score: -0.00354\n",
      "Feature: 1, Score: 0.00531\n",
      "Feature: 2, Score: 0.00177\n",
      "Feature: 3, Score: 0.00708\n",
      "Feature: 4, Score: 0.00265\n",
      "Feature: 5, Score: -0.00265\n",
      "Feature: 6, Score: 0.00619\n",
      "Feature: 7, Score: 0.00265\n",
      "Feature: 8, Score: 0.00177\n",
      "Feature: 9, Score: -0.00531\n",
      "Feature: 10, Score: 0.00088\n",
      "Feature: 11, Score: -0.00265\n",
      "Feature: 12, Score: 0.00885\n",
      "Feature: 13, Score: 0.00354\n"
     ]
    },
    {
     "data": {
      "image/png": "[encoded data removed]",
      "text/plain": [
       "<Figure size 432x288 with 1 Axes>"
      ]
     },
     "metadata": {
      "needs_background": "light"
     },
     "output_type": "display_data"
    }
   ],
   "source": [
    "import pandas as pd\n",
    "from sklearn.ensemble import RandomForestClassifier\n",
    "from sklearn.inspection import permutation_importance\n",
    "\n",
    "# Load the DataFrame\n",
    "df = pd.read_csv('Features_Smote.csv')\n",
    "\n",
    "# Split the DataFrame into features and target\n",
    "X = df_smote.drop(df_smote.columns[-1], axis=1)\n",
    "y= df_smote.iloc[:,-1]\n",
    "\n",
    "# Create a RandomForestClassifier model\n",
    "model = RandomForestClassifier()\n",
    "\n",
    "# Fit the model to the training data\n",
    "model.fit(X_train, y_train)\n",
    "\n",
    "# Get the feature importances\n",
    "results = permutation_importance(model, X, y, scoring='accuracy')\n",
    "importance = results.importances_mean\n",
    "\n",
    "# Print the feature importances\n",
    "for i,v in enumerate(importance):\n",
    "    print('Feature: %0d, Score: %.5f' % (i,v))\n",
    "\n",
    "# Plot the feature importances\n",
    "plt.bar([x for x in range(len(importance))], importance)\n",
    "plt.xlabel('Feature')\n",
    "plt.ylabel('Importance')\n",
    "plt.show()\n"
   ]
  }
 ],
 "metadata": {
  "kernelspec": {
   "display_name": "Python 3",
   "language": "python",
   "name": "python3"
  },
  "language_info": {
   "codemirror_mode": {
    "name": "ipython",
    "version": 3
   },
   "file_extension": ".py",
   "mimetype": "text/x-python",
   "name": "python",
   "nbconvert_exporter": "python",
   "pygments_lexer": "ipython3",
   "version": "3.9.5"
  }
 },
 "nbformat": 4,
 "nbformat_minor": 5
}
